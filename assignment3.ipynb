{
 "cells": [
  {
   "cell_type": "markdown",
   "metadata": {
    "id": "EkWg3jXFjq3u"
   },
   "source": [
    "<h1> Assignment 3: Group Project </h1>"
   ]
  },
  {
   "cell_type": "code",
   "execution_count": 54,
   "metadata": {
    "id": "N0yE4RnNkBLw"
   },
   "outputs": [],
   "source": [
    "# import libraries\n",
    "\n",
    "import matplotlib.pyplot as plt\n",
    "from matplotlib import pyplot\n",
    "%matplotlib inline\n",
    "\n",
    "import pandas as pd\n",
    "import numpy as np\n",
    "import seaborn as sns\n",
    "import re"
   ]
  },
  {
   "cell_type": "markdown",
   "metadata": {
    "id": "NQSKC61AmNd2"
   },
   "source": [
    "# 1. Data preparation and exploration"
   ]
  },
  {
   "cell_type": "markdown",
   "metadata": {
    "id": "EQp0hNrplT2F"
   },
   "source": [
    "## 1.1 Data Retrieving"
   ]
  },
  {
   "cell_type": "code",
   "execution_count": 55,
   "metadata": {
    "colab": {
     "base_uri": "https://localhost:8080/"
    },
    "id": "-NkJBrydjqbP",
    "outputId": "cc143f9d-7494-4f69-fd1d-14a9caeb05ff"
   },
   "outputs": [
    {
     "name": "stderr",
     "output_type": "stream",
     "text": [
      "C:\\Users\\paull\\AppData\\Local\\Programs\\Python\\Python39\\lib\\site-packages\\IPython\\core\\interactiveshell.py:3441: DtypeWarning: Columns (10) have mixed types.Specify dtype option on import or set low_memory=False.\n",
      "  exec(code_obj, self.user_global_ns, self.user_ns)\n"
     ]
    }
   ],
   "source": [
    "movies_df = pd.read_csv('data/movies.csv', delimiter=',')\n",
    "ratings_df = pd.read_csv('data/ratings.csv', delimiter=',')"
   ]
  },
  {
   "cell_type": "code",
   "execution_count": 56,
   "metadata": {
    "colab": {
     "base_uri": "https://localhost:8080/",
     "height": 722
    },
    "id": "vVjklWtOkrk0",
    "outputId": "05197f78-c4a3-4f1b-b88e-bc3981e5be17"
   },
   "outputs": [
    {
     "data": {
      "text/html": [
       "<div>\n",
       "<style scoped>\n",
       "    .dataframe tbody tr th:only-of-type {\n",
       "        vertical-align: middle;\n",
       "    }\n",
       "\n",
       "    .dataframe tbody tr th {\n",
       "        vertical-align: top;\n",
       "    }\n",
       "\n",
       "    .dataframe thead th {\n",
       "        text-align: right;\n",
       "    }\n",
       "</style>\n",
       "<table border=\"1\" class=\"dataframe\">\n",
       "  <thead>\n",
       "    <tr style=\"text-align: right;\">\n",
       "      <th></th>\n",
       "      <th>adult</th>\n",
       "      <th>belongs_to_collection</th>\n",
       "      <th>budget</th>\n",
       "      <th>genres</th>\n",
       "      <th>homepage</th>\n",
       "      <th>id</th>\n",
       "      <th>imdb_id</th>\n",
       "      <th>original_language</th>\n",
       "      <th>original_title</th>\n",
       "      <th>overview</th>\n",
       "      <th>...</th>\n",
       "      <th>release_date</th>\n",
       "      <th>revenue</th>\n",
       "      <th>runtime</th>\n",
       "      <th>spoken_languages</th>\n",
       "      <th>status</th>\n",
       "      <th>tagline</th>\n",
       "      <th>title</th>\n",
       "      <th>video</th>\n",
       "      <th>vote_average</th>\n",
       "      <th>vote_count</th>\n",
       "    </tr>\n",
       "  </thead>\n",
       "  <tbody>\n",
       "    <tr>\n",
       "      <th>0</th>\n",
       "      <td>False</td>\n",
       "      <td>{'id': 10194, 'name': 'Toy Story Collection', ...</td>\n",
       "      <td>30000000</td>\n",
       "      <td>[{'id': 16, 'name': 'Animation'}, {'id': 35, '...</td>\n",
       "      <td>http://toystory.disney.com/toy-story</td>\n",
       "      <td>862</td>\n",
       "      <td>tt0114709</td>\n",
       "      <td>en</td>\n",
       "      <td>Toy Story</td>\n",
       "      <td>Led by Woody, Andy's toys live happily in his ...</td>\n",
       "      <td>...</td>\n",
       "      <td>1995-10-30</td>\n",
       "      <td>373554033.0</td>\n",
       "      <td>81.0</td>\n",
       "      <td>[{'iso_639_1': 'en', 'name': 'English'}]</td>\n",
       "      <td>Released</td>\n",
       "      <td>NaN</td>\n",
       "      <td>Toy Story</td>\n",
       "      <td>False</td>\n",
       "      <td>7.7</td>\n",
       "      <td>5415.0</td>\n",
       "    </tr>\n",
       "    <tr>\n",
       "      <th>1</th>\n",
       "      <td>False</td>\n",
       "      <td>NaN</td>\n",
       "      <td>65000000</td>\n",
       "      <td>[{'id': 12, 'name': 'Adventure'}, {'id': 14, '...</td>\n",
       "      <td>NaN</td>\n",
       "      <td>8844</td>\n",
       "      <td>tt0113497</td>\n",
       "      <td>en</td>\n",
       "      <td>Jumanji</td>\n",
       "      <td>When siblings Judy and Peter discover an encha...</td>\n",
       "      <td>...</td>\n",
       "      <td>1995-12-15</td>\n",
       "      <td>262797249.0</td>\n",
       "      <td>104.0</td>\n",
       "      <td>[{'iso_639_1': 'en', 'name': 'English'}, {'iso...</td>\n",
       "      <td>Released</td>\n",
       "      <td>Roll the dice and unleash the excitement!</td>\n",
       "      <td>Jumanji</td>\n",
       "      <td>False</td>\n",
       "      <td>6.9</td>\n",
       "      <td>2413.0</td>\n",
       "    </tr>\n",
       "    <tr>\n",
       "      <th>2</th>\n",
       "      <td>False</td>\n",
       "      <td>{'id': 119050, 'name': 'Grumpy Old Men Collect...</td>\n",
       "      <td>0</td>\n",
       "      <td>[{'id': 10749, 'name': 'Romance'}, {'id': 35, ...</td>\n",
       "      <td>NaN</td>\n",
       "      <td>15602</td>\n",
       "      <td>tt0113228</td>\n",
       "      <td>en</td>\n",
       "      <td>Grumpier Old Men</td>\n",
       "      <td>A family wedding reignites the ancient feud be...</td>\n",
       "      <td>...</td>\n",
       "      <td>1995-12-22</td>\n",
       "      <td>0.0</td>\n",
       "      <td>101.0</td>\n",
       "      <td>[{'iso_639_1': 'en', 'name': 'English'}]</td>\n",
       "      <td>Released</td>\n",
       "      <td>Still Yelling. Still Fighting. Still Ready for...</td>\n",
       "      <td>Grumpier Old Men</td>\n",
       "      <td>False</td>\n",
       "      <td>6.5</td>\n",
       "      <td>92.0</td>\n",
       "    </tr>\n",
       "    <tr>\n",
       "      <th>3</th>\n",
       "      <td>False</td>\n",
       "      <td>NaN</td>\n",
       "      <td>16000000</td>\n",
       "      <td>[{'id': 35, 'name': 'Comedy'}, {'id': 18, 'nam...</td>\n",
       "      <td>NaN</td>\n",
       "      <td>31357</td>\n",
       "      <td>tt0114885</td>\n",
       "      <td>en</td>\n",
       "      <td>Waiting to Exhale</td>\n",
       "      <td>Cheated on, mistreated and stepped on, the wom...</td>\n",
       "      <td>...</td>\n",
       "      <td>1995-12-22</td>\n",
       "      <td>81452156.0</td>\n",
       "      <td>127.0</td>\n",
       "      <td>[{'iso_639_1': 'en', 'name': 'English'}]</td>\n",
       "      <td>Released</td>\n",
       "      <td>Friends are the people who let you be yourself...</td>\n",
       "      <td>Waiting to Exhale</td>\n",
       "      <td>False</td>\n",
       "      <td>6.1</td>\n",
       "      <td>34.0</td>\n",
       "    </tr>\n",
       "    <tr>\n",
       "      <th>4</th>\n",
       "      <td>False</td>\n",
       "      <td>{'id': 96871, 'name': 'Father of the Bride Col...</td>\n",
       "      <td>0</td>\n",
       "      <td>[{'id': 35, 'name': 'Comedy'}]</td>\n",
       "      <td>NaN</td>\n",
       "      <td>11862</td>\n",
       "      <td>tt0113041</td>\n",
       "      <td>en</td>\n",
       "      <td>Father of the Bride Part II</td>\n",
       "      <td>Just when George Banks has recovered from his ...</td>\n",
       "      <td>...</td>\n",
       "      <td>1995-02-10</td>\n",
       "      <td>76578911.0</td>\n",
       "      <td>106.0</td>\n",
       "      <td>[{'iso_639_1': 'en', 'name': 'English'}]</td>\n",
       "      <td>Released</td>\n",
       "      <td>Just When His World Is Back To Normal... He's ...</td>\n",
       "      <td>Father of the Bride Part II</td>\n",
       "      <td>False</td>\n",
       "      <td>5.7</td>\n",
       "      <td>173.0</td>\n",
       "    </tr>\n",
       "  </tbody>\n",
       "</table>\n",
       "<p>5 rows × 24 columns</p>\n",
       "</div>"
      ],
      "text/plain": [
       "   adult                              belongs_to_collection    budget  \\\n",
       "0  False  {'id': 10194, 'name': 'Toy Story Collection', ...  30000000   \n",
       "1  False                                                NaN  65000000   \n",
       "2  False  {'id': 119050, 'name': 'Grumpy Old Men Collect...         0   \n",
       "3  False                                                NaN  16000000   \n",
       "4  False  {'id': 96871, 'name': 'Father of the Bride Col...         0   \n",
       "\n",
       "                                              genres  \\\n",
       "0  [{'id': 16, 'name': 'Animation'}, {'id': 35, '...   \n",
       "1  [{'id': 12, 'name': 'Adventure'}, {'id': 14, '...   \n",
       "2  [{'id': 10749, 'name': 'Romance'}, {'id': 35, ...   \n",
       "3  [{'id': 35, 'name': 'Comedy'}, {'id': 18, 'nam...   \n",
       "4                     [{'id': 35, 'name': 'Comedy'}]   \n",
       "\n",
       "                               homepage     id    imdb_id original_language  \\\n",
       "0  http://toystory.disney.com/toy-story    862  tt0114709                en   \n",
       "1                                   NaN   8844  tt0113497                en   \n",
       "2                                   NaN  15602  tt0113228                en   \n",
       "3                                   NaN  31357  tt0114885                en   \n",
       "4                                   NaN  11862  tt0113041                en   \n",
       "\n",
       "                original_title  \\\n",
       "0                    Toy Story   \n",
       "1                      Jumanji   \n",
       "2             Grumpier Old Men   \n",
       "3            Waiting to Exhale   \n",
       "4  Father of the Bride Part II   \n",
       "\n",
       "                                            overview  ... release_date  \\\n",
       "0  Led by Woody, Andy's toys live happily in his ...  ...   1995-10-30   \n",
       "1  When siblings Judy and Peter discover an encha...  ...   1995-12-15   \n",
       "2  A family wedding reignites the ancient feud be...  ...   1995-12-22   \n",
       "3  Cheated on, mistreated and stepped on, the wom...  ...   1995-12-22   \n",
       "4  Just when George Banks has recovered from his ...  ...   1995-02-10   \n",
       "\n",
       "       revenue runtime                                   spoken_languages  \\\n",
       "0  373554033.0    81.0           [{'iso_639_1': 'en', 'name': 'English'}]   \n",
       "1  262797249.0   104.0  [{'iso_639_1': 'en', 'name': 'English'}, {'iso...   \n",
       "2          0.0   101.0           [{'iso_639_1': 'en', 'name': 'English'}]   \n",
       "3   81452156.0   127.0           [{'iso_639_1': 'en', 'name': 'English'}]   \n",
       "4   76578911.0   106.0           [{'iso_639_1': 'en', 'name': 'English'}]   \n",
       "\n",
       "     status                                            tagline  \\\n",
       "0  Released                                                NaN   \n",
       "1  Released          Roll the dice and unleash the excitement!   \n",
       "2  Released  Still Yelling. Still Fighting. Still Ready for...   \n",
       "3  Released  Friends are the people who let you be yourself...   \n",
       "4  Released  Just When His World Is Back To Normal... He's ...   \n",
       "\n",
       "                         title  video vote_average vote_count  \n",
       "0                    Toy Story  False          7.7     5415.0  \n",
       "1                      Jumanji  False          6.9     2413.0  \n",
       "2             Grumpier Old Men  False          6.5       92.0  \n",
       "3            Waiting to Exhale  False          6.1       34.0  \n",
       "4  Father of the Bride Part II  False          5.7      173.0  \n",
       "\n",
       "[5 rows x 24 columns]"
      ]
     },
     "execution_count": 56,
     "metadata": {},
     "output_type": "execute_result"
    }
   ],
   "source": [
    "movies_df.head()"
   ]
  },
  {
   "cell_type": "code",
   "execution_count": 57,
   "metadata": {
    "colab": {
     "base_uri": "https://localhost:8080/",
     "height": 206
    },
    "id": "Hn8_I64lktIG",
    "outputId": "ff032f63-7842-4dc7-cc00-9fbcc623254b"
   },
   "outputs": [
    {
     "data": {
      "text/html": [
       "<div>\n",
       "<style scoped>\n",
       "    .dataframe tbody tr th:only-of-type {\n",
       "        vertical-align: middle;\n",
       "    }\n",
       "\n",
       "    .dataframe tbody tr th {\n",
       "        vertical-align: top;\n",
       "    }\n",
       "\n",
       "    .dataframe thead th {\n",
       "        text-align: right;\n",
       "    }\n",
       "</style>\n",
       "<table border=\"1\" class=\"dataframe\">\n",
       "  <thead>\n",
       "    <tr style=\"text-align: right;\">\n",
       "      <th></th>\n",
       "      <th>movieId</th>\n",
       "      <th>rating</th>\n",
       "    </tr>\n",
       "  </thead>\n",
       "  <tbody>\n",
       "    <tr>\n",
       "      <th>0</th>\n",
       "      <td>11860</td>\n",
       "      <td>6.0</td>\n",
       "    </tr>\n",
       "    <tr>\n",
       "      <th>1</th>\n",
       "      <td>31357</td>\n",
       "      <td>6.0</td>\n",
       "    </tr>\n",
       "    <tr>\n",
       "      <th>2</th>\n",
       "      <td>45325</td>\n",
       "      <td>6.0</td>\n",
       "    </tr>\n",
       "    <tr>\n",
       "      <th>3</th>\n",
       "      <td>8844</td>\n",
       "      <td>7.0</td>\n",
       "    </tr>\n",
       "    <tr>\n",
       "      <th>4</th>\n",
       "      <td>15602</td>\n",
       "      <td>7.0</td>\n",
       "    </tr>\n",
       "  </tbody>\n",
       "</table>\n",
       "</div>"
      ],
      "text/plain": [
       "   movieId  rating\n",
       "0    11860     6.0\n",
       "1    31357     6.0\n",
       "2    45325     6.0\n",
       "3     8844     7.0\n",
       "4    15602     7.0"
      ]
     },
     "execution_count": 57,
     "metadata": {},
     "output_type": "execute_result"
    }
   ],
   "source": [
    "ratings_df.head()"
   ]
  },
  {
   "cell_type": "markdown",
   "metadata": {
    "id": "G9irH_sYlfR_"
   },
   "source": [
    "## 1.2 Data cleaning and preparation"
   ]
  },
  {
   "cell_type": "code",
   "execution_count": 58,
   "metadata": {
    "id": "r36AnTXt-QFL"
   },
   "outputs": [],
   "source": [
    "# Create orginal data frame for backup\n",
    "movies_df_raw = movies_df.copy()\n",
    "ratings_df_raw = ratings_df.copy()"
   ]
  },
  {
   "cell_type": "code",
   "execution_count": 59,
   "metadata": {
    "id": "ZvyVLEITlCWX"
   },
   "outputs": [],
   "source": [
    "#set threshold\n",
    "threshold = 0.65\n",
    "\n",
    "# dropping columns with missing value rate higher than threshold\n",
    "ratings_df = ratings_df[ratings_df.columns[ratings_df.isnull().mean() < threshold]]\n",
    "\n",
    "# Remove the missing values from the rows having greater or equal to 6 missing values.\n",
    "movies_df = movies_df[movies_df.isnull().sum(axis=1) <= 6]\n",
    "ratings_df = ratings_df[ratings_df.isnull().sum(axis=1) <= 6]"
   ]
  },
  {
   "cell_type": "markdown",
   "metadata": {
    "id": "TULy-399yDPN"
   },
   "source": [
    "### 1.2.1 Handle missing data"
   ]
  },
  {
   "cell_type": "code",
   "execution_count": 60,
   "metadata": {},
   "outputs": [
    {
     "data": {
      "text/html": [
       "<div>\n",
       "<style scoped>\n",
       "    .dataframe tbody tr th:only-of-type {\n",
       "        vertical-align: middle;\n",
       "    }\n",
       "\n",
       "    .dataframe tbody tr th {\n",
       "        vertical-align: top;\n",
       "    }\n",
       "\n",
       "    .dataframe thead th {\n",
       "        text-align: right;\n",
       "    }\n",
       "</style>\n",
       "<table border=\"1\" class=\"dataframe\">\n",
       "  <thead>\n",
       "    <tr style=\"text-align: right;\">\n",
       "      <th></th>\n",
       "      <th>percent_missing</th>\n",
       "    </tr>\n",
       "  </thead>\n",
       "  <tbody>\n",
       "    <tr>\n",
       "      <th>belongs_to_collection</th>\n",
       "      <td>90.121447</td>\n",
       "    </tr>\n",
       "    <tr>\n",
       "      <th>homepage</th>\n",
       "      <td>82.887442</td>\n",
       "    </tr>\n",
       "    <tr>\n",
       "      <th>tagline</th>\n",
       "      <td>55.091085</td>\n",
       "    </tr>\n",
       "    <tr>\n",
       "      <th>overview</th>\n",
       "      <td>2.081317</td>\n",
       "    </tr>\n",
       "    <tr>\n",
       "      <th>poster_path</th>\n",
       "      <td>0.825046</td>\n",
       "    </tr>\n",
       "    <tr>\n",
       "      <th>runtime</th>\n",
       "      <td>0.547831</td>\n",
       "    </tr>\n",
       "    <tr>\n",
       "      <th>status</th>\n",
       "      <td>0.178210</td>\n",
       "    </tr>\n",
       "    <tr>\n",
       "      <th>release_date</th>\n",
       "      <td>0.169409</td>\n",
       "    </tr>\n",
       "    <tr>\n",
       "      <th>imdb_id</th>\n",
       "      <td>0.035202</td>\n",
       "    </tr>\n",
       "    <tr>\n",
       "      <th>original_language</th>\n",
       "      <td>0.024201</td>\n",
       "    </tr>\n",
       "    <tr>\n",
       "      <th>adult</th>\n",
       "      <td>0.000000</td>\n",
       "    </tr>\n",
       "    <tr>\n",
       "      <th>vote_average</th>\n",
       "      <td>0.000000</td>\n",
       "    </tr>\n",
       "    <tr>\n",
       "      <th>video</th>\n",
       "      <td>0.000000</td>\n",
       "    </tr>\n",
       "    <tr>\n",
       "      <th>title</th>\n",
       "      <td>0.000000</td>\n",
       "    </tr>\n",
       "    <tr>\n",
       "      <th>spoken_languages</th>\n",
       "      <td>0.000000</td>\n",
       "    </tr>\n",
       "    <tr>\n",
       "      <th>production_companies</th>\n",
       "      <td>0.000000</td>\n",
       "    </tr>\n",
       "    <tr>\n",
       "      <th>revenue</th>\n",
       "      <td>0.000000</td>\n",
       "    </tr>\n",
       "    <tr>\n",
       "      <th>production_countries</th>\n",
       "      <td>0.000000</td>\n",
       "    </tr>\n",
       "    <tr>\n",
       "      <th>popularity</th>\n",
       "      <td>0.000000</td>\n",
       "    </tr>\n",
       "    <tr>\n",
       "      <th>original_title</th>\n",
       "      <td>0.000000</td>\n",
       "    </tr>\n",
       "    <tr>\n",
       "      <th>id</th>\n",
       "      <td>0.000000</td>\n",
       "    </tr>\n",
       "    <tr>\n",
       "      <th>genres</th>\n",
       "      <td>0.000000</td>\n",
       "    </tr>\n",
       "    <tr>\n",
       "      <th>budget</th>\n",
       "      <td>0.000000</td>\n",
       "    </tr>\n",
       "    <tr>\n",
       "      <th>vote_count</th>\n",
       "      <td>0.000000</td>\n",
       "    </tr>\n",
       "  </tbody>\n",
       "</table>\n",
       "</div>"
      ],
      "text/plain": [
       "                       percent_missing\n",
       "belongs_to_collection        90.121447\n",
       "homepage                     82.887442\n",
       "tagline                      55.091085\n",
       "overview                      2.081317\n",
       "poster_path                   0.825046\n",
       "runtime                       0.547831\n",
       "status                        0.178210\n",
       "release_date                  0.169409\n",
       "imdb_id                       0.035202\n",
       "original_language             0.024201\n",
       "adult                         0.000000\n",
       "vote_average                  0.000000\n",
       "video                         0.000000\n",
       "title                         0.000000\n",
       "spoken_languages              0.000000\n",
       "production_companies          0.000000\n",
       "revenue                       0.000000\n",
       "production_countries          0.000000\n",
       "popularity                    0.000000\n",
       "original_title                0.000000\n",
       "id                            0.000000\n",
       "genres                        0.000000\n",
       "budget                        0.000000\n",
       "vote_count                    0.000000"
      ]
     },
     "execution_count": 60,
     "metadata": {},
     "output_type": "execute_result"
    }
   ],
   "source": [
    "# Percentage of missing value in movies_df before cleaning\n",
    "percent_missing = movies_df.isnull().sum() * 100 / len(movies_df)\n",
    "missing_values = pd.DataFrame({'percent_missing': percent_missing})\n",
    "missing_values.sort_values(by ='percent_missing' , ascending=False)"
   ]
  },
  {
   "cell_type": "code",
   "execution_count": 61,
   "metadata": {
    "colab": {
     "base_uri": "https://localhost:8080/"
    },
    "id": "KlAlkZP8qiW6",
    "outputId": "f984ca15-49a5-41de-c1eb-3b3ad42bfcf1"
   },
   "outputs": [],
   "source": [
    "# Filling missing value for movies dataset\n",
    "\n",
    "movies_df[\"tagline\"] = movies_df[\"tagline\"].fillna(\"Unknown\")\n",
    "\n",
    "movies_df[\"overview\"] = movies_df[\"overview\"].fillna(\"Unknown\")\n",
    "\n",
    "movies_df[\"poster_path\"] = movies_df[\"poster_path\"].fillna(\"Unknown\")\n",
    "\n",
    "movies_df[\"runtime\"] = movies_df[\"runtime\"].fillna(method='ffill')\n",
    "\n",
    "movies_df[\"release_date\"] = movies_df[\"release_date\"].fillna(method='ffill')\n",
    "\n",
    "movies_df[\"status\"] = movies_df[\"status\"].fillna(movies_df['status'].mode()[0])\n",
    "\n",
    "movies_df[\"imdb_id\"] = movies_df[\"imdb_id\"].fillna(method='ffill')\n",
    "\n",
    "movies_df[\"original_language\"] = movies_df[\"original_language\"].fillna(movies_df['original_language'].mode()[0])"
   ]
  },
  {
   "cell_type": "code",
   "execution_count": 62,
   "metadata": {
    "colab": {
     "base_uri": "https://localhost:8080/",
     "height": 802
    },
    "id": "QpVzZ0OklZFi",
    "outputId": "c0d95dee-f233-44bc-dea6-a08525bcb1f3"
   },
   "outputs": [
    {
     "data": {
      "text/html": [
       "<div>\n",
       "<style scoped>\n",
       "    .dataframe tbody tr th:only-of-type {\n",
       "        vertical-align: middle;\n",
       "    }\n",
       "\n",
       "    .dataframe tbody tr th {\n",
       "        vertical-align: top;\n",
       "    }\n",
       "\n",
       "    .dataframe thead th {\n",
       "        text-align: right;\n",
       "    }\n",
       "</style>\n",
       "<table border=\"1\" class=\"dataframe\">\n",
       "  <thead>\n",
       "    <tr style=\"text-align: right;\">\n",
       "      <th></th>\n",
       "      <th>percent_missing</th>\n",
       "    </tr>\n",
       "  </thead>\n",
       "  <tbody>\n",
       "    <tr>\n",
       "      <th>belongs_to_collection</th>\n",
       "      <td>90.121447</td>\n",
       "    </tr>\n",
       "    <tr>\n",
       "      <th>homepage</th>\n",
       "      <td>82.887442</td>\n",
       "    </tr>\n",
       "    <tr>\n",
       "      <th>adult</th>\n",
       "      <td>0.000000</td>\n",
       "    </tr>\n",
       "    <tr>\n",
       "      <th>production_countries</th>\n",
       "      <td>0.000000</td>\n",
       "    </tr>\n",
       "    <tr>\n",
       "      <th>vote_average</th>\n",
       "      <td>0.000000</td>\n",
       "    </tr>\n",
       "    <tr>\n",
       "      <th>video</th>\n",
       "      <td>0.000000</td>\n",
       "    </tr>\n",
       "    <tr>\n",
       "      <th>title</th>\n",
       "      <td>0.000000</td>\n",
       "    </tr>\n",
       "    <tr>\n",
       "      <th>tagline</th>\n",
       "      <td>0.000000</td>\n",
       "    </tr>\n",
       "    <tr>\n",
       "      <th>status</th>\n",
       "      <td>0.000000</td>\n",
       "    </tr>\n",
       "    <tr>\n",
       "      <th>spoken_languages</th>\n",
       "      <td>0.000000</td>\n",
       "    </tr>\n",
       "    <tr>\n",
       "      <th>runtime</th>\n",
       "      <td>0.000000</td>\n",
       "    </tr>\n",
       "    <tr>\n",
       "      <th>revenue</th>\n",
       "      <td>0.000000</td>\n",
       "    </tr>\n",
       "    <tr>\n",
       "      <th>release_date</th>\n",
       "      <td>0.000000</td>\n",
       "    </tr>\n",
       "    <tr>\n",
       "      <th>production_companies</th>\n",
       "      <td>0.000000</td>\n",
       "    </tr>\n",
       "    <tr>\n",
       "      <th>poster_path</th>\n",
       "      <td>0.000000</td>\n",
       "    </tr>\n",
       "    <tr>\n",
       "      <th>popularity</th>\n",
       "      <td>0.000000</td>\n",
       "    </tr>\n",
       "    <tr>\n",
       "      <th>overview</th>\n",
       "      <td>0.000000</td>\n",
       "    </tr>\n",
       "    <tr>\n",
       "      <th>original_title</th>\n",
       "      <td>0.000000</td>\n",
       "    </tr>\n",
       "    <tr>\n",
       "      <th>original_language</th>\n",
       "      <td>0.000000</td>\n",
       "    </tr>\n",
       "    <tr>\n",
       "      <th>imdb_id</th>\n",
       "      <td>0.000000</td>\n",
       "    </tr>\n",
       "    <tr>\n",
       "      <th>id</th>\n",
       "      <td>0.000000</td>\n",
       "    </tr>\n",
       "    <tr>\n",
       "      <th>genres</th>\n",
       "      <td>0.000000</td>\n",
       "    </tr>\n",
       "    <tr>\n",
       "      <th>budget</th>\n",
       "      <td>0.000000</td>\n",
       "    </tr>\n",
       "    <tr>\n",
       "      <th>vote_count</th>\n",
       "      <td>0.000000</td>\n",
       "    </tr>\n",
       "  </tbody>\n",
       "</table>\n",
       "</div>"
      ],
      "text/plain": [
       "                       percent_missing\n",
       "belongs_to_collection        90.121447\n",
       "homepage                     82.887442\n",
       "adult                         0.000000\n",
       "production_countries          0.000000\n",
       "vote_average                  0.000000\n",
       "video                         0.000000\n",
       "title                         0.000000\n",
       "tagline                       0.000000\n",
       "status                        0.000000\n",
       "spoken_languages              0.000000\n",
       "runtime                       0.000000\n",
       "revenue                       0.000000\n",
       "release_date                  0.000000\n",
       "production_companies          0.000000\n",
       "poster_path                   0.000000\n",
       "popularity                    0.000000\n",
       "overview                      0.000000\n",
       "original_title                0.000000\n",
       "original_language             0.000000\n",
       "imdb_id                       0.000000\n",
       "id                            0.000000\n",
       "genres                        0.000000\n",
       "budget                        0.000000\n",
       "vote_count                    0.000000"
      ]
     },
     "execution_count": 62,
     "metadata": {},
     "output_type": "execute_result"
    }
   ],
   "source": [
    "# Percentage of missing value in movies_df after cleaning\n",
    "percent_missing = movies_df.isnull().sum() * 100 / len(movies_df)\n",
    "missing_values = pd.DataFrame({'percent_missing': percent_missing})\n",
    "missing_values.sort_values(by ='percent_missing' , ascending=False)"
   ]
  },
  {
   "cell_type": "code",
   "execution_count": 63,
   "metadata": {
    "colab": {
     "base_uri": "https://localhost:8080/",
     "height": 175
    },
    "id": "RZzEJzMglw1-",
    "outputId": "11418f2f-3f89-4b7a-acb1-6b1ebc35a60d"
   },
   "outputs": [
    {
     "data": {
      "text/html": [
       "<div>\n",
       "<style scoped>\n",
       "    .dataframe tbody tr th:only-of-type {\n",
       "        vertical-align: middle;\n",
       "    }\n",
       "\n",
       "    .dataframe tbody tr th {\n",
       "        vertical-align: top;\n",
       "    }\n",
       "\n",
       "    .dataframe thead th {\n",
       "        text-align: right;\n",
       "    }\n",
       "</style>\n",
       "<table border=\"1\" class=\"dataframe\">\n",
       "  <thead>\n",
       "    <tr style=\"text-align: right;\">\n",
       "      <th></th>\n",
       "      <th>percent_missing</th>\n",
       "    </tr>\n",
       "  </thead>\n",
       "  <tbody>\n",
       "    <tr>\n",
       "      <th>rating</th>\n",
       "      <td>0.059458</td>\n",
       "    </tr>\n",
       "    <tr>\n",
       "      <th>movieId</th>\n",
       "      <td>0.000000</td>\n",
       "    </tr>\n",
       "  </tbody>\n",
       "</table>\n",
       "</div>"
      ],
      "text/plain": [
       "         percent_missing\n",
       "rating          0.059458\n",
       "movieId         0.000000"
      ]
     },
     "execution_count": 63,
     "metadata": {},
     "output_type": "execute_result"
    }
   ],
   "source": [
    "# Percentage of missing value in ratings_df before cleaning\n",
    "percent_missing = ratings_df.isnull().sum() * 100 / len(ratings_df)\n",
    "missing_values = pd.DataFrame({'percent_missing': percent_missing})\n",
    "missing_values.sort_values(by ='percent_missing' , ascending=False)"
   ]
  },
  {
   "cell_type": "code",
   "execution_count": 64,
   "metadata": {},
   "outputs": [],
   "source": [
    "ratings_df = ratings_df.dropna(how='any',axis=0) "
   ]
  },
  {
   "cell_type": "code",
   "execution_count": 65,
   "metadata": {},
   "outputs": [
    {
     "data": {
      "text/html": [
       "<div>\n",
       "<style scoped>\n",
       "    .dataframe tbody tr th:only-of-type {\n",
       "        vertical-align: middle;\n",
       "    }\n",
       "\n",
       "    .dataframe tbody tr th {\n",
       "        vertical-align: top;\n",
       "    }\n",
       "\n",
       "    .dataframe thead th {\n",
       "        text-align: right;\n",
       "    }\n",
       "</style>\n",
       "<table border=\"1\" class=\"dataframe\">\n",
       "  <thead>\n",
       "    <tr style=\"text-align: right;\">\n",
       "      <th></th>\n",
       "      <th>percent_missing</th>\n",
       "    </tr>\n",
       "  </thead>\n",
       "  <tbody>\n",
       "    <tr>\n",
       "      <th>movieId</th>\n",
       "      <td>0.0</td>\n",
       "    </tr>\n",
       "    <tr>\n",
       "      <th>rating</th>\n",
       "      <td>0.0</td>\n",
       "    </tr>\n",
       "  </tbody>\n",
       "</table>\n",
       "</div>"
      ],
      "text/plain": [
       "         percent_missing\n",
       "movieId              0.0\n",
       "rating               0.0"
      ]
     },
     "execution_count": 65,
     "metadata": {},
     "output_type": "execute_result"
    }
   ],
   "source": [
    "# Percentage of missing value in ratings_df before cleaning\n",
    "percent_missing = ratings_df.isnull().sum() * 100 / len(ratings_df)\n",
    "missing_values = pd.DataFrame({'percent_missing': percent_missing})\n",
    "missing_values.sort_values(by ='percent_missing' , ascending=False)"
   ]
  },
  {
   "cell_type": "code",
   "execution_count": 66,
   "metadata": {
    "id": "w251pz1DnEm-"
   },
   "outputs": [],
   "source": [
    "# rename column id in movies_df to match movieId with ratings_df\n",
    "movies_df.rename(columns={\"id\": \"movieId\"}, inplace=True)"
   ]
  },
  {
   "cell_type": "code",
   "execution_count": 67,
   "metadata": {
    "colab": {
     "base_uri": "https://localhost:8080/"
    },
    "id": "oE5GFhHenh9C",
    "outputId": "3669600c-ed62-49d9-b2a2-6d731d916185"
   },
   "outputs": [
    {
     "data": {
      "text/plain": [
       "adult                     object\n",
       "belongs_to_collection     object\n",
       "budget                    object\n",
       "genres                    object\n",
       "homepage                  object\n",
       "movieId                   object\n",
       "imdb_id                   object\n",
       "original_language         object\n",
       "original_title            object\n",
       "overview                  object\n",
       "popularity                object\n",
       "poster_path               object\n",
       "production_companies      object\n",
       "production_countries      object\n",
       "release_date              object\n",
       "revenue                  float64\n",
       "runtime                  float64\n",
       "spoken_languages          object\n",
       "status                    object\n",
       "tagline                   object\n",
       "title                     object\n",
       "video                     object\n",
       "vote_average             float64\n",
       "vote_count               float64\n",
       "dtype: object"
      ]
     },
     "execution_count": 67,
     "metadata": {},
     "output_type": "execute_result"
    }
   ],
   "source": [
    "# Check type for movies_df\n",
    "movies_df.dtypes"
   ]
  },
  {
   "cell_type": "code",
   "execution_count": 68,
   "metadata": {
    "colab": {
     "base_uri": "https://localhost:8080/"
    },
    "id": "7abYwMOZn-kx",
    "outputId": "e81e7cac-cb48-4238-8503-5cff19b2184c",
    "scrolled": true
   },
   "outputs": [
    {
     "data": {
      "text/plain": [
       "movieId      int64\n",
       "rating     float64\n",
       "dtype: object"
      ]
     },
     "execution_count": 68,
     "metadata": {},
     "output_type": "execute_result"
    }
   ],
   "source": [
    "# Check type for ratings_df\n",
    "ratings_df.dtypes"
   ]
  },
  {
   "cell_type": "code",
   "execution_count": 69,
   "metadata": {
    "id": "7_N-jHRI7e9f"
   },
   "outputs": [],
   "source": [
    "# Delete row in movieId column contain string value\n",
    "movies_df = movies_df[~movies_df['movieId'].isin(['1997-08-20', '2012-09-29','2014-01-01'])]"
   ]
  },
  {
   "cell_type": "code",
   "execution_count": 71,
   "metadata": {
    "id": "53otKBkcoKs8"
   },
   "outputs": [],
   "source": [
    "# change column type for movies_df\n",
    "movies_df[\"movieId\"] = pd.to_numeric(movies_df['movieId'])\n",
    "\n",
    "movies_df[\"popularity\"] = pd.to_numeric(movies_df['popularity'])\n",
    "\n",
    "movies_df[\"budget\"] = pd.to_numeric(movies_df['budget'])"
   ]
  },
  {
   "cell_type": "markdown",
   "metadata": {},
   "source": [
    "Each movie has many ratings rated by many different users. We calculate the average ratings of one movie by sum all the ratings of one movie and divide by the number of ratings."
   ]
  },
  {
   "cell_type": "code",
   "execution_count": 73,
   "metadata": {
    "id": "Wa4ktauuccSJ"
   },
   "outputs": [],
   "source": [
    "ratings_df = ratings_df.groupby(['movieId']).mean().groupby('movieId')['rating'].mean().reset_index()"
   ]
  },
  {
   "cell_type": "code",
   "execution_count": 74,
   "metadata": {
    "id": "VHtlMVJQ9qTk"
   },
   "outputs": [],
   "source": [
    "df = movies_df.merge(ratings_df, how=\"left\", on=\"movieId\")\n",
    "\n",
    "comment_counts = pd.DataFrame(df[\"title\"].value_counts())\n",
    "rare_movies = comment_counts[comment_counts[\"title\"] <= 1000].index\n",
    "common_movies = df[~df[\"title\"].isin(rare_movies)]\n",
    "# round rating float, for classification\n",
    "df = df.round({'rating': 0})"
   ]
  },
  {
   "cell_type": "code",
   "execution_count": 77,
   "metadata": {},
   "outputs": [
    {
     "data": {
      "text/plain": [
       "49"
      ]
     },
     "execution_count": 77,
     "metadata": {},
     "output_type": "execute_result"
    }
   ],
   "source": [
    "df['rating'].isnull().sum()"
   ]
  },
  {
   "cell_type": "markdown",
   "metadata": {},
   "source": [
    "In the dataset, there are some columns with array object as values. We would like to convert to array string based on the field name"
   ]
  },
  {
   "cell_type": "code",
   "execution_count": 83,
   "metadata": {
    "id": "Z93sg8_8QnER"
   },
   "outputs": [],
   "source": [
    "from ast import literal_eval\n",
    "\n",
    "def split_genres(row):\n",
    "    row['genres'] = \",\".join([info['name'] for info in literal_eval(row['genres'])])\n",
    "    return row\n",
    "\n",
    "def split_prod_countries(row):\n",
    "    row['production_countries'] = \",\".join([info['name'] for info in literal_eval(row['production_countries'])])\n",
    "    return row\n",
    "\n",
    "def split_prod_companies(row):\n",
    "    row['production_companies'] = \",\".join([info['name'] for info in literal_eval(row['production_companies'])])\n",
    "    return row\n",
    "\n",
    "def split_spoken_languages(row):\n",
    "    row['spoken_languages'] = \",\".join([info['name'] for info in literal_eval(row['spoken_languages'])])\n",
    "    return row\n",
    "  \n",
    "df = df.apply(split_genres, axis=1)\n",
    "df = df.apply(split_prod_countries, axis=1)\n",
    "df = df.apply(split_prod_companies, axis=1)\n",
    "df = df.apply(split_spoken_languages, axis=1)"
   ]
  },
  {
   "cell_type": "code",
   "execution_count": 84,
   "metadata": {
    "id": "XBa7szbZsXy2"
   },
   "outputs": [],
   "source": [
    "# function for text cleaning\n",
    "def clean_text(text):\n",
    "    # remove backslash-apostrophe\n",
    "    text = re.sub(\"\\'\", \"\", text)\n",
    "    # remove everything alphabets\n",
    "    text = re.sub(r\"(@[A-Za-z0-9]+)|([^0-9A-Za-z \\t])|(\\w+:\\/\\/\\S+)|^rt|http.+?\", \"\", text)\n",
    "    # remove whitespaces\n",
    "    text = ' '.join(text.split())\n",
    "    # remove double whote inside\n",
    "    text = text.replace('“', '').replace('”', '').replace('\"', '')\n",
    "    # remove number\n",
    "    text = re.sub(r\"\\d+\", \"\", text)\n",
    "    # convert text to lowercase\n",
    "    text = text.lower()\n",
    "    \n",
    "    return text"
   ]
  },
  {
   "cell_type": "code",
   "execution_count": 85,
   "metadata": {
    "id": "csod_iXVy8Ia"
   },
   "outputs": [],
   "source": [
    "# Apply clean_text function for cleaning text\n",
    "df['title'] = df['title'].apply(lambda x: clean_text(x))\n",
    "df['tagline'] = df['tagline'].apply(lambda x: clean_text(x))\n",
    "df['original_title'] = df['original_title'].apply(lambda x: clean_text(x))\n",
    "df['overview'] = df['overview'].apply(lambda x: clean_text(x))"
   ]
  },
  {
   "cell_type": "code",
   "execution_count": 86,
   "metadata": {
    "colab": {
     "base_uri": "https://localhost:8080/"
    },
    "id": "RXcMrDQp0uH7",
    "outputId": "64f140ff-683e-4b2b-cd90-478a19401a16"
   },
   "outputs": [
    {
     "name": "stderr",
     "output_type": "stream",
     "text": [
      "[nltk_data] Downloading package stopwords to\n",
      "[nltk_data]     C:\\Users\\paull\\AppData\\Roaming\\nltk_data...\n",
      "[nltk_data]   Package stopwords is already up-to-date!\n"
     ]
    }
   ],
   "source": [
    "# Remove stopword\n",
    "import nltk\n",
    "nltk.download('stopwords')\n",
    "from nltk.corpus import stopwords\n",
    "stop_words = set(stopwords.words('english'))\n",
    "\n",
    "# function to remove stopwords\n",
    "def remove_stopwords(text):\n",
    "    no_stopword_text = [w for w in text.split() if not w in stop_words]\n",
    "    return ' '.join(no_stopword_text)\n",
    "  \n",
    "df['overview'] = df['overview'].apply(lambda x: remove_stopwords(x))"
   ]
  },
  {
   "cell_type": "markdown",
   "metadata": {
    "id": "LmKNPetCmO5F"
   },
   "source": [
    "## 1.3 Data Exploration"
   ]
  },
  {
   "cell_type": "markdown",
   "metadata": {},
   "source": [
    "Chart 1: Movies produced by Countries"
   ]
  },
  {
   "cell_type": "code",
   "execution_count": 88,
   "metadata": {
    "colab": {
     "base_uri": "https://localhost:8080/",
     "height": 683
    },
    "id": "e4UZCaWOutkJ",
    "outputId": "0bb39109-bbce-46cd-92bf-94ac254b40bc"
   },
   "outputs": [
    {
     "data": {
      "image/png": "[encoded data removed]",
      "text/plain": [
       "<Figure size 1440x864 with 1 Axes>"
      ]
     },
     "metadata": {},
     "output_type": "display_data"
    }
   ],
   "source": [
    "from collections import Counter\n",
    "\n",
    "a=[]\n",
    "for each in df.production_countries.str.split(\",\"):\n",
    "    for i in each:\n",
    "        a.append(i)\n",
    "        \n",
    "b = dict(Counter(a))\n",
    "\n",
    "keys=[]\n",
    "values=[]\n",
    "\n",
    "for key,value in b.items() :\n",
    "    if value > 500 and key != \"\":\n",
    "        keys.append(key)\n",
    "        values.append(value)\n",
    "\n",
    "       \n",
    "labels = keys\n",
    "colors = sns.color_palette()\n",
    "explode =[0,0,0,0,0,0,0,0,0,0,0,0,0]\n",
    "sizes= values\n",
    "    \n",
    "plt.figure(figsize = (20,12))\n",
    "\n",
    "plt.pie(sizes,explode = explode,labels=labels,colors = colors,autopct='%1.1f%%',textprops= {\"fontsize\": 20},shadow = False)\n",
    "plt.title(\"Movies produced by Countries\", fontsize=20)\n",
    "\n",
    "plt.show()"
   ]
  },
  {
   "cell_type": "markdown",
   "metadata": {},
   "source": [
    "Chart 2: Number of movie types"
   ]
  },
  {
   "cell_type": "code",
   "execution_count": null,
   "metadata": {
    "colab": {
     "base_uri": "https://localhost:8080/",
     "height": 884
    },
    "id": "RlPsIX3CxJ6P",
    "outputId": "1a46061d-b075-4a62-f609-164c21f3f310"
   },
   "outputs": [],
   "source": [
    "from collections import Counter\n",
    "\n",
    "data = df.genres.copy()\n",
    "\n",
    "list_kind = data.str.split(\",\")\n",
    "a = []\n",
    "for each in list_kind:\n",
    "    for i in each:\n",
    "        a.append(i)\n",
    "        \n",
    "c=[]\n",
    "for each in a:\n",
    "    if each != \"\":\n",
    "         c.append(each)        \n",
    "        \n",
    "f= dict(Counter(c))\n",
    "\n",
    "df3 = pd.DataFrame(list(f.items()),columns = [\"kind\",\"ratio\"])\n",
    "new_index =( df3.ratio.sort_values(ascending=False)).index.values\n",
    "new = df3.reindex(new_index)\n",
    "\n",
    "plt.figure( figsize = (20,12))\n",
    "plt.tick_params(labelsize = 15)\n",
    "sns.barplot(x=\"kind\",y=\"ratio\",data=new,palette = sns.cubehelix_palette(len(f)))\n",
    "plt.xticks(rotation = 90)\n",
    "plt.xlabel(\"Kind Of Movie\",fontsize=20)\n",
    "plt.ylabel(\"Count\",fontsize=20)\n",
    "plt.title(\"Number of movie types\",fontsize = 20)"
   ]
  },
  {
   "cell_type": "markdown",
   "metadata": {},
   "source": [
    "Chart 3: Count each type of ratings"
   ]
  },
  {
   "cell_type": "code",
   "execution_count": 89,
   "metadata": {
    "colab": {
     "base_uri": "https://localhost:8080/",
     "height": 681
    },
    "id": "AJq8upFtPHyc",
    "outputId": "203cc232-68a6-4cb2-a631-c5af4ac29243"
   },
   "outputs": [
    {
     "name": "stderr",
     "output_type": "stream",
     "text": [
      "C:\\Users\\paull\\AppData\\Local\\Temp/ipykernel_4092/2282132342.py:3: UserWarning: FixedFormatter should only be used together with FixedLocator\n",
      "  ax.set_yticklabels([num for num in ax.get_yticks()])\n"
     ]
    },
    {
     "data": {
      "image/png": "[encoded data removed]",
      "text/plain": [
       "<Figure size 1440x864 with 1 Axes>"
      ]
     },
     "metadata": {
      "needs_background": "light"
     },
     "output_type": "display_data"
    }
   ],
   "source": [
    "f,ax = plt.subplots(1,1,figsize=(20,12))\n",
    "ax = sns.countplot(x=\"rating\", data=ratings_df_raw)\n",
    "ax.set_yticklabels([num for num in ax.get_yticks()])\n",
    "plt.tick_params(labelsize = 15)\n",
    "plt.title(\"Count each type of ratings\", fontsize = 20)\n",
    "plt.xlabel(\"Ratings\", fontsize = 20)\n",
    "plt.ylabel(\"Number of Ratings\", fontsize = 20)\n",
    "plt.show()"
   ]
  },
  {
   "cell_type": "markdown",
   "metadata": {},
   "source": [
    "Chart 4: Popular Movies"
   ]
  },
  {
   "cell_type": "code",
   "execution_count": null,
   "metadata": {
    "colab": {
     "base_uri": "https://localhost:8080/",
     "height": 649
    },
    "id": "dG9e6kv4QTlr",
    "outputId": "9decfa43-467c-41b5-ca3f-4574a27b8c28"
   },
   "outputs": [],
   "source": [
    "pop = df.sort_values('popularity', ascending=False)\n",
    "plt.figure(figsize=(20,12))\n",
    "\n",
    "plt.barh(pop['title'].head(6),pop['popularity'].head(6), align='center',\n",
    "        color='skyblue')\n",
    "plt.gca().invert_yaxis()\n",
    "plt.tick_params(labelsize = 15)\n",
    "plt.xlabel(\"Popularity\", fontsize = 20)\n",
    "plt.ylabel(\"The title of movie\", fontsize = 20)\n",
    "plt.title(\"Popular Movies\", fontsize = 20)"
   ]
  },
  {
   "cell_type": "markdown",
   "metadata": {},
   "source": [
    "Chart 5: Top 6 movies with highest revenue with its budget"
   ]
  },
  {
   "cell_type": "code",
   "execution_count": null,
   "metadata": {
    "colab": {
     "base_uri": "https://localhost:8080/",
     "height": 865
    },
    "id": "h5Faf59PT1Zg",
    "outputId": "567feb0e-b900-4d64-e877-e2223ce145de"
   },
   "outputs": [],
   "source": [
    "df1 = movies_df[['title','revenue','budget']].copy()\n",
    "\n",
    "df1.set_index('title', inplace=True)\n",
    "\n",
    "ax = df1.sort_values(by=['revenue'], ascending=False).head(6).plot(kind='bar', figsize=(20,12))\n",
    "ax.xaxis.set_major_formatter(plt.FixedFormatter(df1.index.to_series()))\n",
    "plt.tick_params(labelsize = 15)\n",
    "plt.ylabel(\"Ammount of money in billion ($)\", fontsize = 20)\n",
    "plt.xlabel(\"The title of movie\", fontsize = 20)\n",
    "plt.legend(fontsize=20)\n",
    "plt.title(\"Top 6 movies with highest revenue with its budget\", fontsize = 20)\n",
    "plt.show()"
   ]
  },
  {
   "cell_type": "markdown",
   "metadata": {},
   "source": [
    "Chart 6: Most popular language in movies"
   ]
  },
  {
   "cell_type": "code",
   "execution_count": null,
   "metadata": {
    "colab": {
     "base_uri": "https://localhost:8080/",
     "height": 728
    },
    "id": "iIn2-_SIENZs",
    "outputId": "6b5c995b-68dd-4a22-848b-f5a02c2f76ad"
   },
   "outputs": [],
   "source": [
    "unique = list(movies_df.original_language.unique())\n",
    "list_ratio=[]\n",
    "for each in unique:\n",
    "    x= movies_df[movies_df[\"original_language\"] == each]\n",
    "    ratio_popularity=sum(x.popularity)/len(x)\n",
    "    list_ratio.append(ratio_popularity)\n",
    "    \n",
    "df1 = pd.DataFrame({\"language\":unique,\"ratio\":list_ratio})\n",
    "new_index = (df1.ratio.sort_values(ascending = False)).index.values\n",
    "sorted_data= df1.reindex(new_index)\n",
    "\n",
    "#Visualization\n",
    "plt.figure(figsize = (20,12))\n",
    "sns.barplot(x= sorted_data[\"language\"],y  = sorted_data[\"ratio\"])\n",
    "plt.xticks(rotation= 90)\n",
    "plt.tick_params(labelsize = 15)\n",
    "\n",
    "plt.xlabel(\"Language\",fontsize = 20)\n",
    "plt.ylabel(\"Popularity\",fontsize = 20)\n",
    "plt.title(\"Most popular language in movies\", fontsize = 20)"
   ]
  },
  {
   "cell_type": "markdown",
   "metadata": {
    "id": "0vxC5GbVmVNw"
   },
   "source": [
    "# 2. Data Modelling\n",
    "---"
   ]
  },
  {
   "cell_type": "markdown",
   "metadata": {},
   "source": [
    "## Categorical Encoding"
   ]
  },
  {
   "cell_type": "markdown",
   "metadata": {
    "id": "9JTtBkbyyK-0"
   },
   "source": [
    "**belongs_to_collection**\n",
    "\n",
    "\n",
    "Convert column 'belongs_to_collection' data to binary data of 0 and 1 (1 means the movie belongs to a collection, and 0 means it does not belong to any collection)."
   ]
  },
  {
   "cell_type": "code",
   "execution_count": null,
   "metadata": {
    "id": "SD_d-Dmol1Iv"
   },
   "outputs": [],
   "source": [
    "# converting column 'belongs_to_collection' to binary 0 and 1 data\n",
    "df[\"belongs_to_collection\"] = df[\"belongs_to_collection\"].fillna(0)\n",
    "df[\"belongs_to_collection\"] = np.where(df[\"belongs_to_collection\"] != 0,1,0)\n",
    "df['belongs_to_collection'] = pd.to_numeric(df['belongs_to_collection'])"
   ]
  },
  {
   "cell_type": "markdown",
   "metadata": {
    "id": "cA4TlA52ycbk"
   },
   "source": [
    "**homepage**\n",
    "\n",
    "Convert column 'homepage' to binary data of 0 and 1 (1 means the movie has a homepage, and 0 means the movie does not have a homepage)"
   ]
  },
  {
   "cell_type": "code",
   "execution_count": null,
   "metadata": {
    "id": "JU1rdLn6vjqi"
   },
   "outputs": [],
   "source": [
    "df[\"homepage\"] = df[\"homepage\"].fillna(0)\n",
    "df[\"homepage\"] = np.where(df[\"homepage\"] != 0,1,0)\n",
    "df['homepage'] = pd.to_numeric(df['homepage'])"
   ]
  },
  {
   "cell_type": "markdown",
   "metadata": {
    "id": "L5CI2Kauy4C4"
   },
   "source": [
    "**adult**\n",
    "\n",
    "Convert column 'adult' data from boolean value to 1 and 0 (1: True, 0: False)"
   ]
  },
  {
   "cell_type": "code",
   "execution_count": null,
   "metadata": {
    "id": "JN5uYbW0ypC7"
   },
   "outputs": [],
   "source": [
    "df[\"adult\"] = np.where(df['adult'] == True, 1, 0)\n",
    "df['adult'] = pd.to_numeric(df['adult'])"
   ]
  },
  {
   "cell_type": "markdown",
   "metadata": {},
   "source": [
    "**video**\n",
    "\n",
    "Convert column 'video' data from boolean value to 1 and 0 (1: True, 0: False)"
   ]
  },
  {
   "cell_type": "code",
   "execution_count": null,
   "metadata": {},
   "outputs": [],
   "source": [
    "df[\"video\"] = np.where(df['video'] == True, 1, 0)\n",
    "df['video'] = pd.to_numeric(df['video'])"
   ]
  },
  {
   "cell_type": "markdown",
   "metadata": {},
   "source": [
    "**status**"
   ]
  },
  {
   "cell_type": "code",
   "execution_count": null,
   "metadata": {},
   "outputs": [],
   "source": [
    "df['status'].value_counts()"
   ]
  },
  {
   "cell_type": "markdown",
   "metadata": {},
   "source": [
    "Since \"Released\" is the dominant value in this column, we can make the dataset easier for computing by replacing value \"Released\" with 1, and the others with 0."
   ]
  },
  {
   "cell_type": "code",
   "execution_count": null,
   "metadata": {},
   "outputs": [],
   "source": [
    "df[\"status\"] = np.where(df['status'] == True, 1, 0)\n",
    "df['status'] = pd.to_numeric(df['status'])"
   ]
  },
  {
   "cell_type": "markdown",
   "metadata": {},
   "source": [
    "**spoken_languages**"
   ]
  },
  {
   "cell_type": "code",
   "execution_count": null,
   "metadata": {},
   "outputs": [],
   "source": [
    "df['spoken_languages'].value_counts()"
   ]
  },
  {
   "cell_type": "markdown",
   "metadata": {},
   "source": [
    "Same with column 'status', English is the most common language used in the movies. In addition, it also dominate other languages in terms of quantity. Therefore, we can set value 1 for movies that has English as one of the spoken language, and 0 when the movie does not use English."
   ]
  },
  {
   "cell_type": "code",
   "execution_count": null,
   "metadata": {},
   "outputs": [],
   "source": [
    "df[\"spoken_languages\"] = np.where(df['spoken_languages'].str.contains(\"English\"), 1, 0)\n",
    "df['spoken_languages'] = pd.to_numeric(df['spoken_languages'])"
   ]
  },
  {
   "cell_type": "markdown",
   "metadata": {},
   "source": [
    "**original_language**"
   ]
  },
  {
   "cell_type": "code",
   "execution_count": null,
   "metadata": {},
   "outputs": [],
   "source": [
    "df['original_language'].value_counts()"
   ]
  },
  {
   "cell_type": "code",
   "execution_count": null,
   "metadata": {},
   "outputs": [],
   "source": [
    "df[\"original_language\"] = np.where(df['original_language'] == \"en\", 1, 0)\n",
    "df['original_language'] = pd.to_numeric(df['original_language'])"
   ]
  },
  {
   "cell_type": "markdown",
   "metadata": {},
   "source": [
    "**production_countries**"
   ]
  },
  {
   "cell_type": "code",
   "execution_count": null,
   "metadata": {},
   "outputs": [],
   "source": [
    "df['production_countries'].value_counts()"
   ]
  },
  {
   "cell_type": "markdown",
   "metadata": {},
   "source": [
    "From a real world perspective, we can observe that the US's movie industry is gigantic. From this standpoint, we can set value of 1 for movies that involved the US in the production phase, and 0 for ther others."
   ]
  },
  {
   "cell_type": "code",
   "execution_count": null,
   "metadata": {},
   "outputs": [],
   "source": [
    "df[\"production_countries\"] = np.where(df['production_countries'].str.contains(\"United States of America\"), 1, 0)\n",
    "df['production_countries'] = pd.to_numeric(df['production_countries'])"
   ]
  },
  {
   "cell_type": "markdown",
   "metadata": {},
   "source": [
    "**genres**"
   ]
  },
  {
   "cell_type": "code",
   "execution_count": null,
   "metadata": {},
   "outputs": [],
   "source": [
    "genre_list = []\n",
    "for value in df['genres'].unique():\n",
    "  value_list = value.split(',')\n",
    "  for item in value_list:\n",
    "    genre_list.append(item)\n",
    "\n",
    "genre_list = np.unique(np.array(genre_list)).tolist()\n",
    "genre_list.remove(\"\")\n",
    "\n",
    "for genre in genre_list:\n",
    "  column_name = 'genres_' + genre\n",
    "  df[column_name] = np.where(df['genres'].str.contains(genre), 1, 0)\n",
    "    \n",
    "df.drop(\"genres\",axis=1,inplace=True)"
   ]
  },
  {
   "cell_type": "markdown",
   "metadata": {},
   "source": [
    "**production_companies**"
   ]
  },
  {
   "cell_type": "code",
   "execution_count": null,
   "metadata": {},
   "outputs": [],
   "source": [
    "df['production_companies'].value_counts()"
   ]
  },
  {
   "cell_type": "code",
   "execution_count": null,
   "metadata": {},
   "outputs": [],
   "source": [
    "company_list = []\n",
    "for value in df['production_companies'].unique():\n",
    "  value_list = value.split(',')\n",
    "  for item in value_list:\n",
    "    company_list.append(item)\n",
    "\n",
    "company_list = np.unique(np.array(company_list)).tolist()\n",
    "company_list.remove(\"\")\n",
    "print(len(company_list))"
   ]
  },
  {
   "cell_type": "markdown",
   "metadata": {},
   "source": [
    "Column 'comnpany_list' has 23574 different companies. Therefore, it would create the same amount of new features if we decide to perform one-hot encoding for this feature.\n",
    "\n",
    "Interstingly, from the unique value counting, we can observe that value 'Metro-Goldwyn-Mayer (MGM)' appears a lot more frequent than other values of the feature."
   ]
  },
  {
   "cell_type": "markdown",
   "metadata": {},
   "source": [
    "**release_date**\n",
    "\n",
    "To use a datetime feature for fitting into a machine learning model, we can extract cyclical features (day, month) and encode them using sine and cosine transformation. This is to ensure that the data still keeps there cyclinal nature.\n",
    "https://www.kaggle.com/avanwyk/encoding-cyclical-features-for-deep-learning"
   ]
  },
  {
   "cell_type": "code",
   "execution_count": null,
   "metadata": {},
   "outputs": [],
   "source": [
    "def encode(data, col, max_val):\n",
    "    data[col + '_sin'] = np.sin(2 * np.pi * data[col]/max_val)\n",
    "    data[col + '_cos'] = np.cos(2 * np.pi * data[col]/max_val)\n",
    "    return data"
   ]
  },
  {
   "cell_type": "code",
   "execution_count": null,
   "metadata": {},
   "outputs": [],
   "source": [
    "df['release_date']= pd.to_datetime(df['release_date'])\n",
    "df['month'] = df.release_date.dt.month\n",
    "df['day'] = df.release_date.dt.dayofyear\n",
    "\n",
    "print(df['day'])"
   ]
  },
  {
   "cell_type": "code",
   "execution_count": null,
   "metadata": {},
   "outputs": [],
   "source": [
    "df = encode(df, 'month', 12)\n",
    "df = encode(df, 'day', 365)\n",
    "# drop original unencoded features\n",
    "df.drop(['month', 'day', 'release_date'],axis=1,inplace=True)"
   ]
  },
  {
   "cell_type": "markdown",
   "metadata": {
    "id": "-etfxnQnTnJZ"
   },
   "source": [
    "## 2.1 Feature Engineering\n",
    "\n",
    "Feature selection for fitting into the machine learning algorithms"
   ]
  },
  {
   "cell_type": "code",
   "execution_count": null,
   "metadata": {},
   "outputs": [],
   "source": [
    "df.head()"
   ]
  },
  {
   "cell_type": "markdown",
   "metadata": {
    "id": "dFIad3f11IO-"
   },
   "source": [
    "#### 2.1.1 Reasoning"
   ]
  },
  {
   "cell_type": "code",
   "execution_count": null,
   "metadata": {},
   "outputs": [],
   "source": [
    "df['adult'].value_counts()"
   ]
  },
  {
   "cell_type": "markdown",
   "metadata": {},
   "source": [
    "Because column 'adult' only contains 1 value (False), we can remove this feature from the dataset. Also, from a reality perspective, we can also drop other columns that does not predict the rating of a movies:\n",
    "- imdb_id: id of the movie on imdb film review site\n",
    "- movieId: id of the movie in the dataset\n",
    "- poster_path: url to the poster of the movie\n",
    "- original_title, title: name of the movie before and after release\n",
    "- overview: a brief description about the movie\n",
    "- tagline: the movie quote (usually in posters)"
   ]
  },
  {
   "cell_type": "code",
   "execution_count": null,
   "metadata": {},
   "outputs": [],
   "source": [
    "df.drop(['adult','imdb_id','poster_path','title','original_title','overview','movieId','tagline'], axis=1, inplace=True)"
   ]
  },
  {
   "cell_type": "code",
   "execution_count": null,
   "metadata": {},
   "outputs": [],
   "source": [
    "first_column = df.pop('rating')\n",
    "df.insert(0, 'rating', first_column)\n",
    "df.head()"
   ]
  },
  {
   "cell_type": "code",
   "execution_count": null,
   "metadata": {},
   "outputs": [],
   "source": [
    "df['rating'].value_counts()"
   ]
  },
  {
   "cell_type": "markdown",
   "metadata": {},
   "source": [
    "Chi square"
   ]
  },
  {
   "cell_type": "code",
   "execution_count": null,
   "metadata": {},
   "outputs": [],
   "source": [
    "from sklearn.feature_selection import chi2\n",
    "\n",
    "X = df.drop('rating',axis=1)\n",
    "Y = df['rating']\n",
    "chi_scores = chi2(X,Y)\n",
    "p_values = pd.Series(chi_scores[1],index = X.columns)\n",
    "p_values.sort_values(ascending = False , inplace = True)\n",
    "p_values.plot.bar()"
   ]
  },
  {
   "cell_type": "markdown",
   "metadata": {
    "id": "3TIDlRQG_7i_"
   },
   "source": [
    "#### 2.1.2 Correlation Matrix"
   ]
  },
  {
   "cell_type": "code",
   "execution_count": null,
   "metadata": {
    "colab": {
     "base_uri": "https://localhost:8080/",
     "height": 782
    },
    "id": "21xLwbjn8mu7",
    "outputId": "8a7d7e2f-9c80-4841-eb35-fbe43eb3cdc4"
   },
   "outputs": [],
   "source": [
    "f,ax = plt.subplots(figsize = (20,12))\n",
    "sns.heatmap (df.corr(), annot = True,linewidths =0.75,linecolor = \"White\",fmt = \".2f\",ax = ax,center = -0.1)\n",
    "plt.show()"
   ]
  },
  {
   "cell_type": "markdown",
   "metadata": {
    "id": "VaUxAwxemG8Q"
   },
   "source": [
    "### 2.2 K-fold cross validation"
   ]
  },
  {
   "cell_type": "code",
   "execution_count": null,
   "metadata": {
    "id": "s9JNw-RfmB7L"
   },
   "outputs": [],
   "source": [
    "from sklearn.model_selection import KFold\n",
    "\n",
    "kf5 = KFold(n_splits=5, shuffle=False)"
   ]
  },
  {
   "cell_type": "code",
   "execution_count": null,
   "metadata": {
    "id": "YEqWbIzyUSuP"
   },
   "outputs": [],
   "source": []
  },
  {
   "cell_type": "markdown",
   "metadata": {
    "id": "tZBxUX3AUQ74"
   },
   "source": [
    "### 2.3 Parameter tuning"
   ]
  },
  {
   "cell_type": "code",
   "execution_count": null,
   "metadata": {
    "id": "i4FnYlxhUpbx"
   },
   "outputs": [],
   "source": []
  },
  {
   "cell_type": "markdown",
   "metadata": {
    "id": "yIMV5lbEUXXE"
   },
   "source": [
    "### 2.4 Model training"
   ]
  },
  {
   "cell_type": "code",
   "execution_count": null,
   "metadata": {
    "id": "qyrU1zmAUp7q"
   },
   "outputs": [],
   "source": []
  },
  {
   "cell_type": "markdown",
   "metadata": {
    "id": "I7bYQMaJUcbP"
   },
   "source": [
    "### 2.5 Model Evaluation and Selection"
   ]
  },
  {
   "cell_type": "code",
   "execution_count": null,
   "metadata": {
    "id": "ch9aUt7BUzex"
   },
   "outputs": [],
   "source": []
  },
  {
   "cell_type": "code",
   "execution_count": null,
   "metadata": {
    "id": "CpYik_ZMUqYb"
   },
   "outputs": [],
   "source": []
  },
  {
   "cell_type": "markdown",
   "metadata": {
    "id": "eFVIr1YGUiDN"
   },
   "source": [
    "### 2.6 Save the model for deployment"
   ]
  },
  {
   "cell_type": "markdown",
   "metadata": {
    "id": "r_72FnWrVInB"
   },
   "source": [
    "In this task, we use Pickle to save and load the model. Since in order to use the model outside of the notebook, we need to sae it - and then later, we can load and use it for deployment "
   ]
  },
  {
   "cell_type": "code",
   "execution_count": null,
   "metadata": {
    "id": "VG1n4a4vUqv0"
   },
   "outputs": [],
   "source": [
    "import pickle\n",
    "\n",
    "# pickle.dump(model1, open('model1.pkl', 'wb'))\n",
    "# pickle.dump(model2, open('model2.pkl', 'wb'))\n",
    "# pickle.dump(model3, open('model3.pkl', 'wb'))"
   ]
  },
  {
   "cell_type": "markdown",
   "metadata": {
    "id": "l0NXFF_uUyjh"
   },
   "source": [
    "## 3. Model deployment and Automation"
   ]
  },
  {
   "cell_type": "markdown",
   "metadata": {
    "id": "xJXq5JmKU1eP"
   },
   "source": [
    "## 4. Visualisation Dashboard"
   ]
  },
  {
   "cell_type": "code",
   "execution_count": null,
   "metadata": {},
   "outputs": [],
   "source": []
  }
 ],
 "metadata": {
  "accelerator": "GPU",
  "colab": {
   "collapsed_sections": [],
   "name": "assignment3.ipynb",
   "provenance": [],
   "toc_visible": true
  },
  "kernelspec": {
   "display_name": "Python 3",
   "language": "python",
   "name": "python3"
  },
  "language_info": {
   "codemirror_mode": {
    "name": "ipython",
    "version": 3
   },
   "file_extension": ".py",
   "mimetype": "text/x-python",
   "name": "python",
   "nbconvert_exporter": "python",
   "pygments_lexer": "ipython3",
   "version": "3.9.7"
  }
 },
 "nbformat": 4,
 "nbformat_minor": 1
}
